{
 "cells": [
  {
   "cell_type": "code",
   "execution_count": 1,
   "metadata": {},
   "outputs": [],
   "source": [
    "%load_ext autoreload\n",
    "%autoreload 2"
   ]
  },
  {
   "cell_type": "code",
   "execution_count": 2,
   "metadata": {
    "tags": []
   },
   "outputs": [
    {
     "output_type": "stream",
     "name": "stdout",
     "text": "Tf version: 2.0.0\n"
    }
   ],
   "source": [
    "import tensorflow as tf\n",
    "\n",
    "print(f\"Tf version: {tf.__version__}\")"
   ]
  },
  {
   "cell_type": "code",
   "execution_count": 7,
   "metadata": {
    "tags": []
   },
   "outputs": [
    {
     "output_type": "stream",
     "name": "stdout",
     "text": "2.0.0\n"
    }
   ],
   "source": [
    "from src.models import utils"
   ]
  },
  {
   "cell_type": "code",
   "execution_count": 8,
   "metadata": {
    "tags": []
   },
   "outputs": [
    {
     "output_type": "execute_result",
     "data": {
      "text/plain": "'bar'"
     },
     "metadata": {},
     "execution_count": 8
    }
   ],
   "source": [
    "utils.foo('foo')"
   ]
  },
  {
   "cell_type": "code",
   "execution_count": 9,
   "metadata": {},
   "outputs": [
    {
     "output_type": "execute_result",
     "data": {
      "text/plain": "'baz'"
     },
     "metadata": {},
     "execution_count": 9
    }
   ],
   "source": [
    "utils.foo('as')"
   ]
  },
  {
   "cell_type": "code",
   "execution_count": 11,
   "metadata": {
    "tags": []
   },
   "outputs": [
    {
     "output_type": "stream",
     "name": "stderr",
     "text": "Dl Completed...: 0 url [00:00, ? url/s]\nDl Size...: 0 MiB [00:00, ? MiB/s]\u001b[A\n\nExtraction completed...: 0 file [00:00, ? file/s]\nDl Size...: 0 MiB [00:00, ? MiB/s]\nDl Completed...: 0 url [00:00, ? url/s]\n85 examples [00:00, 844.23 examples/s]\u001b[1mDownloading and preparing dataset amazon_us_reviews/Mobile_Electronics_v1_00/0.1.0 (download: 21.81 MiB, generated: Unknown size, total: 21.81 MiB) to ./data/external/amazon_us_reviews/Mobile_Electronics_v1_00/0.1.0...\u001b[0m\n\n\n\n  1%|          | 941/104975 [00:00<00:11, 9409.63 examples/s]Shuffling and writing examples to ./data/external/amazon_us_reviews/Mobile_Electronics_v1_00/0.1.0.incompleteT11U72/amazon_us_reviews-train.tfrecord\n 95%|█████████▍| 99683/104975 [00:00<00:00, 72554.03 examples/s]\u001b[1mDataset amazon_us_reviews downloaded and prepared to ./data/external/amazon_us_reviews/Mobile_Electronics_v1_00/0.1.0. Subsequent calls will reuse this data.\u001b[0m\n"
    }
   ],
   "source": [
    "sample = utils.load_dataset(\"amazon_us_reviews/Mobile_Electronics_v1_00\")"
   ]
  },
  {
   "cell_type": "code",
   "execution_count": 14,
   "metadata": {
    "tags": []
   },
   "outputs": [
    {
     "output_type": "stream",
     "name": "stdout",
     "text": "b'great worked awesome'\nStars: 5\n\n\nb\"I have an OtterBox Defender case on my phone.  The charger is too wide to fit in the slot to actually charge the phone with the case on it; therefore I have to remove the entire OtterBox Defender case if I wanted to charge my phone.  That was too much of hassle so I opted for something else.  I'm not sure how the charger worked; I'm glad I didn't pay too much for it.  If you have the case; don't buy it.  if you don't have the case; I suggest you look at other reviews for help.\"\nStars: 1\n\n\n"
    }
   ],
   "source": [
    "for reviews in sample.take(2):\n",
    "    review_text = reviews['data']\n",
    "    print(review_text.get('review_body').numpy())\n",
    "    print(f\"Stars: {review_text.get('star_rating').numpy()}\")\n",
    "    print(\"\\n\")"
   ]
  },
  {
   "cell_type": "code",
   "execution_count": null,
   "metadata": {},
   "outputs": [],
   "source": []
  }
 ],
 "metadata": {
  "language_info": {
   "codemirror_mode": {
    "name": "ipython",
    "version": 3
   },
   "file_extension": ".py",
   "mimetype": "text/x-python",
   "name": "python",
   "nbconvert_exporter": "python",
   "pygments_lexer": "ipython3",
   "version": "3.7.7-final"
  },
  "orig_nbformat": 2,
  "kernelspec": {
   "name": "python37764bitvscconda23656d386d714515a2b4e91b974efa5d",
   "display_name": "Python 3.7.7 64-bit ('vsc': conda)"
  }
 },
 "nbformat": 4,
 "nbformat_minor": 2
}