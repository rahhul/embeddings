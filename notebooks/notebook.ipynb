{
 "cells": [
  {
   "cell_type": "code",
   "execution_count": 1,
   "metadata": {},
   "outputs": [],
   "source": [
    "%load_ext autoreload\n",
    "%autoreload 2"
   ]
  },
  {
   "cell_type": "code",
   "execution_count": 1,
   "metadata": {
    "tags": []
   },
   "outputs": [
    {
     "output_type": "stream",
     "name": "stdout",
     "text": "Tf version: 2.0.0\n"
    }
   ],
   "source": [
    "import tensorflow as tf\n",
    "\n",
    "print(f\"Tf version: {tf.__version__}\")"
   ]
  },
  {
   "cell_type": "code",
   "execution_count": 2,
   "metadata": {
    "tags": []
   },
   "outputs": [
    {
     "output_type": "stream",
     "name": "stdout",
     "text": "2.0.0\n"
    }
   ],
   "source": [
    "from src.models import utils"
   ]
  },
  {
   "cell_type": "code",
   "execution_count": 3,
   "metadata": {
    "tags": []
   },
   "outputs": [
    {
     "output_type": "execute_result",
     "data": {
      "text/plain": "'bar'"
     },
     "metadata": {},
     "execution_count": 3
    }
   ],
   "source": [
    "utils.foo('foo')"
   ]
  },
  {
   "cell_type": "code",
   "execution_count": 4,
   "metadata": {},
   "outputs": [
    {
     "output_type": "execute_result",
     "data": {
      "text/plain": "'baz'"
     },
     "metadata": {},
     "execution_count": 4
    }
   ],
   "source": [
    "utils.foo('as')"
   ]
  },
  {
   "cell_type": "code",
   "execution_count": 5,
   "metadata": {},
   "outputs": [],
   "source": [
    "import tensorflow_datasets as tfds"
   ]
  },
  {
   "cell_type": "code",
   "execution_count": 6,
   "metadata": {},
   "outputs": [],
   "source": [
    "dataset, info = tfds.load('amazon_us_reviews/Mobile_Electronics_v1_00',\n",
    "                          with_info=True)\n",
    "\n",
    "train_dataset = dataset['train']"
   ]
  },
  {
   "cell_type": "code",
   "execution_count": 9,
   "metadata": {},
   "outputs": [
    {
     "output_type": "execute_result",
     "data": {
      "text/plain": "tfds.core.DatasetInfo(\n    name='amazon_us_reviews',\n    version=0.1.0,\n    description='Amazon Customer Reviews (a.k.a. Product Reviews) is one of Amazons iconic products. In a period of over two decades since the first review in 1995, millions of Amazon customers have contributed over a hundred million reviews to express opinions and describe their experiences regarding products on the Amazon.com website. This makes Amazon Customer Reviews a rich source of information for academic researchers in the fields of Natural Language Processing (NLP), Information Retrieval (IR), and Machine Learning (ML), amongst others. Accordingly, we are releasing this data to further research in multiple disciplines related to understanding customer product experiences. Specifically, this dataset was constructed to represent a sample of customer evaluations and opinions, variation in the perception of a product across geographical regions, and promotional intent or bias in reviews.\n\nOver 130+ million customer reviews are available to researchers as part of this release. The data is available in TSV files in the amazon-reviews-pds S3 bucket in AWS US East Region. Each line in the data files corresponds to an individual review (tab delimited, with no quote and escape characters).\n\nEach Dataset contains the following columns : \n  marketplace       - 2 letter country code of the marketplace where the review was written.\n  customer_id       - Random identifier that can be used to aggregate reviews written by a single author.\n  review_id         - The unique ID of the review.\n  product_id        - The unique Product ID the review pertains to. In the multilingual dataset the reviews\n                      for the same product in different countries can be grouped by the same product_id.\n  product_parent    - Random identifier that can be used to aggregate reviews for the same product.\n  product_title     - Title of the product.\n  product_category  - Broad product category that can be used to group reviews \n                      (also used to group the dataset into coherent parts).\n  star_rating       - The 1-5 star rating of the review.\n  helpful_votes     - Number of helpful votes.\n  total_votes       - Number of total votes the review received.\n  vine              - Review was written as part of the Vine program.\n  verified_purchase - The review is on a verified purchase.\n  review_headline   - The title of the review.\n  review_body       - The review text.\n  review_date       - The date the review was written.',\n    homepage='https://s3.amazonaws.com/amazon-reviews-pds/readme.html',\n    features=FeaturesDict({\n        'data': FeaturesDict({\n            'customer_id': tf.string,\n            'helpful_votes': tf.int32,\n            'marketplace': tf.string,\n            'product_category': tf.string,\n            'product_id': tf.string,\n            'product_parent': tf.string,\n            'product_title': tf.string,\n            'review_body': tf.string,\n            'review_date': tf.string,\n            'review_headline': tf.string,\n            'review_id': tf.string,\n            'star_rating': tf.int32,\n            'total_votes': tf.int32,\n            'verified_purchase': ClassLabel(shape=(), dtype=tf.int64, num_classes=2),\n            'vine': ClassLabel(shape=(), dtype=tf.int64, num_classes=2),\n        }),\n    }),\n    total_num_examples=104975,\n    splits={\n        'train': 104975,\n    },\n    supervised_keys=None,\n    citation=\"\"\"\"\"\",\n    redistribution_info=,\n)"
     },
     "metadata": {},
     "execution_count": 9
    }
   ],
   "source": [
    "info"
   ]
  },
  {
   "cell_type": "code",
   "execution_count": 12,
   "metadata": {},
   "outputs": [],
   "source": [
    "BUFFER_SIZE = 30000\n",
    "BATCH_SIZE = 128"
   ]
  },
  {
   "cell_type": "code",
   "execution_count": 13,
   "metadata": {},
   "outputs": [],
   "source": [
    "train_dataset = train_dataset.shuffle(BUFFER_SIZE, reshuffle_each_iteration=False)"
   ]
  },
  {
   "cell_type": "code",
   "execution_count": 18,
   "metadata": {
    "tags": []
   },
   "outputs": [
    {
     "output_type": "stream",
     "name": "stdout",
     "text": "Review Text: b'great tool fun easy to use great price lots of features can use as webcam with face recognition, still image mode, lcd screen on board most pro recorders dont have it... records in HD can do 1080 but at lower fr BUT who records in 1080 untill u have pro editing software and shoot on red? 720 is great at 30fps accurate with sound cool suction mount  even though the attachment it self were u clip camera on mount kinda gay but works fine, great buy for great price.'\nStar Rating: 5\n1\n\n\nReview Text: b'nice product'\nStar Rating: 5\n1\n\n\nReview Text: b'It is ok<br />The box cant handle the bass'\nStar Rating: 3\n0\n\n\n"
    }
   ],
   "source": [
    "for reviews in train_dataset.take(3):\n",
    "    review_text = reviews['data']\n",
    "    print(f\"Review Text: {review_text.get('review_body').numpy()}\")\n",
    "    print(f\"Star Rating: {review_text.get('star_rating').numpy()}\")\n",
    "    print(tf.where(review_text.get('star_rating') > 3, 1, 0).numpy())\n",
    "    print(\"\\n\")"
   ]
  },
  {
   "cell_type": "code",
   "execution_count": 19,
   "metadata": {
    "tags": []
   },
   "outputs": [
    {
     "output_type": "stream",
     "name": "stdout",
     "text": "73738\n"
    }
   ],
   "source": [
    "tokenizer = tfds.features.text.Tokenizer()\n",
    "\n",
    "vocabulary_set = set()\n",
    "for _, reviews in train_dataset.enumerate():\n",
    "    review_text = reviews['data']\n",
    "    reviews_tokens = tokenizer.tokenize(review_text.get('review_body').numpy())\n",
    "    vocabulary_set.update(reviews_tokens)\n",
    "\n",
    "vocab_size = len(vocabulary_set)\n",
    "print(vocab_size)"
   ]
  },
  {
   "cell_type": "code",
   "execution_count": 20,
   "metadata": {},
   "outputs": [],
   "source": [
    "encoder = tfds.features.text.TokenTextEncoder(vocabulary_set)"
   ]
  },
  {
   "cell_type": "code",
   "execution_count": 25,
   "metadata": {},
   "outputs": [
    {
     "output_type": "execute_result",
     "data": {
      "text/plain": "<TokenTextEncoder vocab_size=73740>"
     },
     "metadata": {},
     "execution_count": 25
    }
   ],
   "source": [
    "encoder"
   ]
  },
  {
   "cell_type": "code",
   "execution_count": 30,
   "metadata": {
    "tags": []
   },
   "outputs": [
    {
     "output_type": "stream",
     "name": "stdout",
     "text": "b'great tool fun easy to use great price lots of features can use as webcam with face recognition, still image mode, lcd screen on board most pro recorders dont have it... records in HD can do 1080 but at lower fr BUT who records in 1080 untill u have pro editing software and shoot on red? 720 is great at 30fps accurate with sound cool suction mount  even though the attachment it self were u clip camera on mount kinda gay but works fine, great buy for great price.'\n[37278, 42766, 9067, 23279, 58859, 2255, 37278, 25712, 19538, 22866, 73485, 9885, 2255, 7077, 43393, 70564, 56186, 5709, 33666, 50146, 37351, 26089, 51676, 50949, 25780, 33203, 50285, 73577, 55784, 6536, 59122, 66663, 39181, 4782, 9885, 38775, 73471, 67535, 4194, 54732, 60899, 72358, 37953, 66663, 39181, 73471, 58066, 65761, 6536, 50285, 64688, 49159, 7722, 12384, 50949, 26491, 27103, 48199, 37278, 4194, 53546, 72361, 70564, 50833, 55812, 47310, 9635, 15522, 3224, 60289, 24941, 59122, 2286, 69452, 65761, 38582, 72563, 50949, 9635, 4979, 68440, 67535, 35366, 308, 37278, 52456, 72569, 37278, 25712]\n\n\nb'nice product'\n[47582, 64476]\n\n\n"
    }
   ],
   "source": [
    "for reviews in train_dataset.take(2):\n",
    "    review_text = reviews[\"data\"]\n",
    "    print(review_text.get('review_body').numpy())\n",
    "    encoded_example = encoder.encode(review_text.get(\"review_body\").numpy())\n",
    "    print(encoded_example)\n",
    "    print(\"\\n\")"
   ]
  },
  {
   "cell_type": "code",
   "execution_count": 32,
   "metadata": {
    "tags": []
   },
   "outputs": [
    {
     "output_type": "stream",
     "name": "stdout",
     "text": "47582 --------> nice\n64476 --------> product\n"
    }
   ],
   "source": [
    "for index in encoded_example:\n",
    "    print(f\"{index} --------> {encoder.decode([index])}\")"
   ]
  },
  {
   "cell_type": "code",
   "execution_count": null,
   "metadata": {},
   "outputs": [],
   "source": []
  }
 ],
 "metadata": {
  "language_info": {
   "codemirror_mode": {
    "name": "ipython",
    "version": 3
   },
   "file_extension": ".py",
   "mimetype": "text/x-python",
   "name": "python",
   "nbconvert_exporter": "python",
   "pygments_lexer": "ipython3",
   "version": "3.7.7-final"
  },
  "orig_nbformat": 2,
  "kernelspec": {
   "name": "python37764bitvscconda23656d386d714515a2b4e91b974efa5d",
   "display_name": "Python 3.7.7 64-bit ('vsc': conda)"
  }
 },
 "nbformat": 4,
 "nbformat_minor": 2
}