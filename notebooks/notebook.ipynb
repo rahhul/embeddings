{
 "cells": [
  {
   "cell_type": "code",
   "execution_count": 3,
   "metadata": {},
   "outputs": [],
   "source": [
    "%load_ext autoreload\n",
    "%autoreload 2"
   ]
  },
  {
   "cell_type": "code",
   "execution_count": 4,
   "metadata": {
    "tags": []
   },
   "outputs": [
    {
     "output_type": "stream",
     "name": "stdout",
     "text": "Tf version: 2.0.0\n"
    }
   ],
   "source": [
    "import tensorflow as tf\n",
    "\n",
    "print(f\"Tf version: {tf.__version__}\")"
   ]
  },
  {
   "cell_type": "code",
   "execution_count": 8,
   "metadata": {},
   "outputs": [],
   "source": [
    "import tensorflow_datasets as tfds"
   ]
  },
  {
   "cell_type": "code",
   "execution_count": 9,
   "metadata": {},
   "outputs": [],
   "source": [
    "dataset, info = tfds.load('amazon_us_reviews/Mobile_Electronics_v1_00',\n",
    "                          with_info=True)\n",
    "\n",
    "train_dataset = dataset['train']"
   ]
  },
  {
   "cell_type": "code",
   "execution_count": 10,
   "metadata": {},
   "outputs": [
    {
     "output_type": "execute_result",
     "data": {
      "text/plain": "tfds.core.DatasetInfo(\n    name='amazon_us_reviews',\n    version=0.1.0,\n    description='Amazon Customer Reviews (a.k.a. Product Reviews) is one of Amazons iconic products. In a period of over two decades since the first review in 1995, millions of Amazon customers have contributed over a hundred million reviews to express opinions and describe their experiences regarding products on the Amazon.com website. This makes Amazon Customer Reviews a rich source of information for academic researchers in the fields of Natural Language Processing (NLP), Information Retrieval (IR), and Machine Learning (ML), amongst others. Accordingly, we are releasing this data to further research in multiple disciplines related to understanding customer product experiences. Specifically, this dataset was constructed to represent a sample of customer evaluations and opinions, variation in the perception of a product across geographical regions, and promotional intent or bias in reviews.\n\nOver 130+ million customer reviews are available to researchers as part of this release. The data is available in TSV files in the amazon-reviews-pds S3 bucket in AWS US East Region. Each line in the data files corresponds to an individual review (tab delimited, with no quote and escape characters).\n\nEach Dataset contains the following columns : \n  marketplace       - 2 letter country code of the marketplace where the review was written.\n  customer_id       - Random identifier that can be used to aggregate reviews written by a single author.\n  review_id         - The unique ID of the review.\n  product_id        - The unique Product ID the review pertains to. In the multilingual dataset the reviews\n                      for the same product in different countries can be grouped by the same product_id.\n  product_parent    - Random identifier that can be used to aggregate reviews for the same product.\n  product_title     - Title of the product.\n  product_category  - Broad product category that can be used to group reviews \n                      (also used to group the dataset into coherent parts).\n  star_rating       - The 1-5 star rating of the review.\n  helpful_votes     - Number of helpful votes.\n  total_votes       - Number of total votes the review received.\n  vine              - Review was written as part of the Vine program.\n  verified_purchase - The review is on a verified purchase.\n  review_headline   - The title of the review.\n  review_body       - The review text.\n  review_date       - The date the review was written.',\n    homepage='https://s3.amazonaws.com/amazon-reviews-pds/readme.html',\n    features=FeaturesDict({\n        'data': FeaturesDict({\n            'customer_id': tf.string,\n            'helpful_votes': tf.int32,\n            'marketplace': tf.string,\n            'product_category': tf.string,\n            'product_id': tf.string,\n            'product_parent': tf.string,\n            'product_title': tf.string,\n            'review_body': tf.string,\n            'review_date': tf.string,\n            'review_headline': tf.string,\n            'review_id': tf.string,\n            'star_rating': tf.int32,\n            'total_votes': tf.int32,\n            'verified_purchase': ClassLabel(shape=(), dtype=tf.int64, num_classes=2),\n            'vine': ClassLabel(shape=(), dtype=tf.int64, num_classes=2),\n        }),\n    }),\n    total_num_examples=104975,\n    splits={\n        'train': 104975,\n    },\n    supervised_keys=None,\n    citation=\"\"\"\"\"\",\n    redistribution_info=,\n)"
     },
     "metadata": {},
     "execution_count": 10
    }
   ],
   "source": [
    "info"
   ]
  },
  {
   "cell_type": "code",
   "execution_count": 11,
   "metadata": {},
   "outputs": [],
   "source": [
    "BUFFER_SIZE = 30000\n",
    "BATCH_SIZE = 128"
   ]
  },
  {
   "cell_type": "code",
   "execution_count": 12,
   "metadata": {},
   "outputs": [],
   "source": [
    "train_dataset = train_dataset.shuffle(BUFFER_SIZE, reshuffle_each_iteration=False)"
   ]
  },
  {
   "cell_type": "code",
   "execution_count": 13,
   "metadata": {
    "tags": []
   },
   "outputs": [
    {
     "output_type": "stream",
     "name": "stdout",
     "text": "Review Text: b\"First let me say the receiver is very good, the CD player is excellent and the LED display is readable. What's wrong? It's the worlds most complicated stereo with microscopic buttons. It's just not obvious, more like devious. I bought this mainly to match the blue guages in my 67 Mustang. I still haven't figured out how to keep it on just one color, yeh, you try it .. I gave up. There is no particular reason to love this. buy the cheaper ones and live with the red LEDs.\"\nStar Rating: 3\n0\n\n\nReview Text: b\"The mid-bass on these speakers are awesome but the tweeters are complete crap. They're not accurate at all and pierces through your ears. I'm going to have to find a different set of tweeters to run with the woofers.\"\nStar Rating: 4\n1\n\n\nReview Text: b\"Easy to connect and just the right length so it doesn't catch into anything. I'm hoping the Fiio does create a similar cable for the iPhone 5 so that I can use it with that device as well.\"\nStar Rating: 5\n1\n\n\n"
    }
   ],
   "source": [
    "for reviews in train_dataset.take(3):\n",
    "    review_text = reviews['data']\n",
    "    print(f\"Review Text: {review_text.get('review_body').numpy()}\")\n",
    "    print(f\"Star Rating: {review_text.get('star_rating').numpy()}\")\n",
    "    print(tf.where(review_text.get('star_rating') > 3, 1, 0).numpy())\n",
    "    print(\"\\n\")"
   ]
  },
  {
   "cell_type": "code",
   "execution_count": 14,
   "metadata": {
    "tags": []
   },
   "outputs": [
    {
     "output_type": "stream",
     "name": "stdout",
     "text": "73738\n"
    }
   ],
   "source": [
    "tokenizer = tfds.features.text.Tokenizer()\n",
    "\n",
    "vocabulary_set = set()\n",
    "for _, reviews in train_dataset.enumerate():\n",
    "    review_text = reviews['data']\n",
    "    reviews_tokens = tokenizer.tokenize(review_text.get('review_body').numpy())\n",
    "    vocabulary_set.update(reviews_tokens)\n",
    "\n",
    "vocab_size = len(vocabulary_set)\n",
    "print(vocab_size)"
   ]
  },
  {
   "cell_type": "code",
   "execution_count": 15,
   "metadata": {},
   "outputs": [],
   "source": [
    "encoder = tfds.features.text.TokenTextEncoder(vocabulary_set)"
   ]
  },
  {
   "cell_type": "code",
   "execution_count": 16,
   "metadata": {},
   "outputs": [
    {
     "output_type": "execute_result",
     "data": {
      "text/plain": "<TokenTextEncoder vocab_size=73740>"
     },
     "metadata": {},
     "execution_count": 16
    }
   ],
   "source": [
    "encoder"
   ]
  },
  {
   "cell_type": "code",
   "execution_count": 17,
   "metadata": {
    "tags": []
   },
   "outputs": [
    {
     "output_type": "stream",
     "name": "stdout",
     "text": "b\"First let me say the receiver is very good, the CD player is excellent and the LED display is readable. What's wrong? It's the worlds most complicated stereo with microscopic buttons. It's just not obvious, more like devious. I bought this mainly to match the blue guages in my 67 Mustang. I still haven't figured out how to keep it on just one color, yeh, you try it .. I gave up. There is no particular reason to love this. buy the cheaper ones and live with the red LEDs.\"\n[26769, 34520, 25343, 10058, 42387, 13282, 4457, 64255, 51957, 42387, 55497, 15292, 4457, 57143, 68966, 42387, 44517, 4556, 4457, 42158, 15652, 44186, 19679, 37972, 44186, 42387, 20392, 2931, 59914, 67137, 49003, 32571, 51475, 37972, 44186, 33074, 44395, 17910, 26681, 72566, 29491, 3302, 36360, 64477, 70434, 10643, 8842, 42387, 71263, 28262, 14547, 18769, 61812, 23118, 3302, 21830, 38874, 28530, 30196, 38029, 65714, 10643, 8654, 34563, 49957, 33074, 10250, 70421, 50138, 9451, 52522, 34563, 3302, 66385, 52112, 40115, 4457, 14139, 38573, 893, 10643, 63151, 64477, 25797, 42387, 3427, 57212, 68966, 52467, 49003, 42387, 5669, 43709]\n\n\nb\"The mid-bass on these speakers are awesome but the tweeters are complete crap. They're not accurate at all and pierces through your ears. I'm going to have to find a different set of tweeters to run with the woofers.\"\n[64859, 53219, 67207, 49957, 8525, 21695, 18261, 10401, 26222, 42387, 50777, 18261, 45262, 70025, 1747, 62861, 44395, 51511, 13277, 43711, 68966, 63301, 21853, 17921, 7486, 3302, 26235, 24572, 10643, 63757, 10643, 70756, 15450, 12388, 69914, 27764, 50777, 10643, 7997, 49003, 42387, 53937]\n\n\n"
    }
   ],
   "source": [
    "for reviews in train_dataset.take(2):\n",
    "    review_text = reviews[\"data\"]\n",
    "    print(review_text.get('review_body').numpy())\n",
    "    encoded_example = encoder.encode(review_text.get(\"review_body\").numpy())\n",
    "    print(encoded_example)\n",
    "    print(\"\\n\")"
   ]
  },
  {
   "cell_type": "code",
   "execution_count": 18,
   "metadata": {
    "tags": []
   },
   "outputs": [
    {
     "output_type": "stream",
     "name": "stdout",
     "text": "64859 --------> The\n53219 --------> mid\n67207 --------> bass\n49957 --------> on\n8525 --------> these\n21695 --------> speakers\n18261 --------> are\n10401 --------> awesome\n26222 --------> but\n42387 --------> the\n50777 --------> tweeters\n18261 --------> are\n45262 --------> complete\n70025 --------> crap\n1747 --------> They\n62861 --------> re\n44395 --------> not\n51511 --------> accurate\n13277 --------> at\n43711 --------> all\n68966 --------> and\n63301 --------> pierces\n21853 --------> through\n17921 --------> your\n7486 --------> ears\n3302 --------> I\n26235 --------> m\n24572 --------> going\n10643 --------> to\n63757 --------> have\n10643 --------> to\n70756 --------> find\n15450 --------> a\n12388 --------> different\n69914 --------> set\n27764 --------> of\n50777 --------> tweeters\n10643 --------> to\n7997 --------> run\n49003 --------> with\n42387 --------> the\n53937 --------> woofers\n"
    }
   ],
   "source": [
    "for index in encoded_example:\n",
    "    print(f\"{index} --------> {encoder.decode([index])}\")"
   ]
  },
  {
   "cell_type": "code",
   "execution_count": null,
   "metadata": {},
   "outputs": [],
   "source": []
  }
 ],
 "metadata": {
  "language_info": {
   "codemirror_mode": {
    "name": "ipython",
    "version": 3
   },
   "file_extension": ".py",
   "mimetype": "text/x-python",
   "name": "python",
   "nbconvert_exporter": "python",
   "pygments_lexer": "ipython3",
   "version": "3.7.7-final"
  },
  "orig_nbformat": 2,
  "kernelspec": {
   "name": "python37764bitvscconda23656d386d714515a2b4e91b974efa5d",
   "display_name": "Python 3.7.7 64-bit ('vsc': conda)"
  }
 },
 "nbformat": 4,
 "nbformat_minor": 2
}