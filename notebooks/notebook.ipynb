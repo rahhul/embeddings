{
 "cells": [
  {
   "cell_type": "code",
   "execution_count": 1,
   "metadata": {
    "tags": []
   },
   "outputs": [],
   "source": [
    "%load_ext autoreload\n",
    "%autoreload 2"
   ]
  },
  {
   "cell_type": "code",
   "execution_count": 2,
   "metadata": {
    "tags": []
   },
   "outputs": [
    {
     "output_type": "stream",
     "name": "stdout",
     "text": "Tf version: 2.2.0\n"
    }
   ],
   "source": [
    "import tensorflow as tf\n",
    "\n",
    "print(f\"Tf version: {tf.__version__}\")"
   ]
  },
  {
   "cell_type": "code",
   "execution_count": 3,
   "metadata": {
    "tags": []
   },
   "outputs": [
    {
     "output_type": "stream",
     "name": "stdout",
     "text": "Tfds version: 3.1.0\n"
    }
   ],
   "source": [
    "import tensorflow_datasets as tfds\n",
    "\n",
    "print(f\"Tfds version: {tfds.__version__}\")"
   ]
  },
  {
   "cell_type": "code",
   "execution_count": 4,
   "metadata": {},
   "outputs": [],
   "source": [
    "dataset, info = tfds.load('amazon_us_reviews/Mobile_Electronics_v1_00',\n",
    "                          with_info=True)\n",
    "\n",
    "train_dataset = dataset['train']"
   ]
  },
  {
   "cell_type": "code",
   "execution_count": 1,
   "metadata": {},
   "outputs": [
    {
     "output_type": "error",
     "ename": "NameError",
     "evalue": "name 'info' is not defined",
     "traceback": [
      "\u001b[0;31m---------------------------------------------------------------------------\u001b[0m",
      "\u001b[0;31mNameError\u001b[0m                                 Traceback (most recent call last)",
      "\u001b[0;32m<ipython-input-1-886ead46232a>\u001b[0m in \u001b[0;36m<module>\u001b[0;34m\u001b[0m\n\u001b[0;32m----> 1\u001b[0;31m \u001b[0minfo\u001b[0m\u001b[0;34m\u001b[0m\u001b[0;34m\u001b[0m\u001b[0m\n\u001b[0m",
      "\u001b[0;31mNameError\u001b[0m: name 'info' is not defined"
     ]
    }
   ],
   "source": [
    "info"
   ]
  },
  {
   "cell_type": "code",
   "execution_count": 6,
   "metadata": {},
   "outputs": [],
   "source": [
    "BUFFER_SIZE = 30000\n",
    "BATCH_SIZE = 128"
   ]
  },
  {
   "cell_type": "code",
   "execution_count": 7,
   "metadata": {},
   "outputs": [],
   "source": [
    "train_dataset = train_dataset.shuffle(BUFFER_SIZE, reshuffle_each_iteration=False)"
   ]
  },
  {
   "cell_type": "code",
   "execution_count": 8,
   "metadata": {
    "tags": []
   },
   "outputs": [
    {
     "output_type": "stream",
     "name": "stdout",
     "text": "Review Text: b'I needed a parrot type speaker for my car and that is exactly what i got! looks great came with everything i needed. Great Deal!!'\nStar Rating: 5\n1\n\n\nReview Text: b\"Ok, i choose this cover, because its notepad appearance. It's good looking, and very worth the money you pay for it.    The good :    - The cover is nice to the touch (Outside and Inside)  - Have a support on the back that when you don't use it keep itself locked through a magneto.  - Very stylish  - Nice color and texture  - Nice price    The bad : (and the reason why i put only 4 stars...)    - It seems that since the nook have a rubbery back, in a month of use, it has get stained with the interior of the cover. Not that it matters very much, since i don't get it out of its cover, but anyways, It should not get stained.\"\nStar Rating: 4\n1\n\n\nReview Text: b'Helped my overall system, basically made my volume twice as loud instead of volume 10 (max 26) im running at 5. Im running all alpine S around with additional pioneer tweeters. This item was perfect for me i just hid it in my glove compartment, this is my first system and i felt it was a great buy for me. If you do not know much and just want more out of your speakers this is a decent grab. Made my speakers a perfect match for my jl 8w3.'\nStar Rating: 4\n1\n\n\n"
    }
   ],
   "source": [
    "for reviews in train_dataset.take(3):\n",
    "    review_text = reviews['data']\n",
    "    print(f\"Review Text: {review_text.get('review_body').numpy()}\")\n",
    "    print(f\"Star Rating: {review_text.get('star_rating').numpy()}\")\n",
    "    print(tf.where(review_text.get('star_rating') > 3, 1, 0).numpy())\n",
    "    print(\"\\n\")"
   ]
  },
  {
   "cell_type": "code",
   "execution_count": 9,
   "metadata": {
    "tags": []
   },
   "outputs": [
    {
     "output_type": "stream",
     "name": "stdout",
     "text": "73738\n"
    }
   ],
   "source": [
    "tokenizer = tfds.features.text.Tokenizer()\n",
    "\n",
    "vocabulary_set = set()\n",
    "for _, reviews in train_dataset.enumerate():\n",
    "    review_text = reviews['data']\n",
    "    reviews_tokens = tokenizer.tokenize(review_text.get('review_body').numpy())\n",
    "    vocabulary_set.update(reviews_tokens)\n",
    "\n",
    "vocab_size = len(vocabulary_set)\n",
    "print(vocab_size)"
   ]
  },
  {
   "cell_type": "code",
   "execution_count": 10,
   "metadata": {},
   "outputs": [],
   "source": [
    "encoder = tfds.features.text.TokenTextEncoder(vocabulary_set)"
   ]
  },
  {
   "cell_type": "code",
   "execution_count": 11,
   "metadata": {},
   "outputs": [
    {
     "output_type": "execute_result",
     "data": {
      "text/plain": "<TokenTextEncoder vocab_size=73740>"
     },
     "metadata": {},
     "execution_count": 11
    }
   ],
   "source": [
    "encoder"
   ]
  },
  {
   "cell_type": "code",
   "execution_count": 12,
   "metadata": {
    "tags": []
   },
   "outputs": [
    {
     "output_type": "stream",
     "name": "stdout",
     "text": "b'I needed a parrot type speaker for my car and that is exactly what i got! looks great came with everything i needed. Great Deal!!'\n<dtype: 'string'>\nStar rating: <dtype: 'int32'>\n[4341, 55200, 39744, 72513, 53987, 11555, 37615, 20531, 61063, 10515, 1415, 68607, 50440, 19340, 64144, 55380, 50850, 34483, 59992, 67687, 48456, 64144, 55200, 42750, 7120]\n\n\nb\"Ok, i choose this cover, because its notepad appearance. It's good looking, and very worth the money you pay for it.    The good :    - The cover is nice to the touch (Outside and Inside)  - Have a support on the back that when you don't use it keep itself locked through a magneto.  - Very stylish  - Nice color and texture  - Nice price    The bad : (and the reason why i put only 4 stars...)    - It seems that since the nook have a rubbery back, in a month of use, it has get stained with the interior of the cover. Not that it matters very much, since i don't get it out of its cover, but anyways, It should not get stained.\"\n<dtype: 'string'>\nStar rating: <dtype: 'int32'>\n[33481, 64144, 64506, 18309, 27247, 2976, 70210, 7778, 7532, 45661, 44808, 39192, 61808, 10515, 45692, 52884, 17453, 69495, 23021, 39259, 37615, 51370, 60788, 39192, 60788, 27247, 68607, 70830, 69269, 17453, 71750, 36858, 10515, 29041, 35054, 39744, 72851, 66644, 17453, 13972, 1415, 59318, 23021, 27302, 16929, 47316, 51370, 49799, 9333, 38874, 1233, 39744, 68411, 2662, 22201, 10837, 46561, 10515, 52861, 10837, 50338, 60788, 30051, 10515, 17453, 58045, 45947, 64144, 73614, 60003, 29193, 54354, 45661, 52482, 1415, 34925, 17453, 11065, 64071, 39744, 60802, 13972, 50554, 39744, 4936, 46116, 47316, 51370, 63992, 26040, 45877, 67687, 17453, 46725, 46116, 17453, 27247, 3268, 1415, 51370, 59948, 45692, 6365, 34925, 64144, 27302, 16929, 26040, 51370, 13045, 46116, 70210, 27247, 14761, 7557, 45661, 48310, 24119, 26040, 45877]\n\n\n"
    }
   ],
   "source": [
    "for reviews in train_dataset.take(2):\n",
    "    review_text = reviews[\"data\"]\n",
    "    print(review_text.get('review_body').numpy())\n",
    "    print(review_text.get('review_body').dtype)\n",
    "    print(f\"Star rating: {review_text.get('star_rating').dtype}\")\n",
    "    encoded_example = encoder.encode(review_text.get(\"review_body\").numpy())\n",
    "    print(encoded_example)\n",
    "    print(\"\\n\")"
   ]
  },
  {
   "cell_type": "code",
   "execution_count": 13,
   "metadata": {},
   "outputs": [
    {
     "output_type": "execute_result",
     "data": {
      "text/plain": "73738"
     },
     "metadata": {},
     "execution_count": 13
    }
   ],
   "source": [
    "len(encoder.tokens)"
   ]
  },
  {
   "cell_type": "code",
   "execution_count": 14,
   "metadata": {},
   "outputs": [],
   "source": [
    "def encode(text_tensor, label_tensor):\n",
    "    \"\"\"Encodes dataset with the encoder.\n",
    "    \"\"\"\n",
    "    # encode text\n",
    "    encoded_text = encoder.encode(text_tensor.numpy())\n",
    "    label = tf.where(label_tensor > 3, 1, 0)\n",
    "    return encoded_text, label\n"
   ]
  },
  {
   "cell_type": "code",
   "execution_count": 15,
   "metadata": {},
   "outputs": [],
   "source": [
    "def encode_map_fn(tensor):\n",
    "    \n",
    "    text = tensor['data'].get('review_body')\n",
    "    label = tensor['data'].get('star_rating')\n",
    "    \n",
    "    encoded_text, label = tf.py_function(encode,\n",
    "                                         inp=[text, label],\n",
    "                                         Tout=(tf.int32, tf.int32))\n",
    "    # set shapes for eager\n",
    "    encoded_text.set_shape([None])\n",
    "    label.set_shape([])\n",
    "    return encoded_text, label"
   ]
  },
  {
   "cell_type": "code",
   "execution_count": 16,
   "metadata": {},
   "outputs": [],
   "source": [
    "# apply to train dataset\n",
    "\n",
    "encoded_dataset = train_dataset.map(encode_map_fn)"
   ]
  },
  {
   "cell_type": "code",
   "execution_count": 17,
   "metadata": {
    "tags": []
   },
   "outputs": [
    {
     "output_type": "stream",
     "name": "stdout",
     "text": "tf.Tensor(\n[ 4341 55200 39744 72513 53987 11555 37615 20531 61063 10515  1415 68607\n 50440 19340 64144 55380 50850 34483 59992 67687 48456 64144 55200 42750\n  7120], shape=(25,), dtype=int32)\nI needed a parrot type speaker for my car and that is exactly what i got looks great came with everything i needed Great Deal\ntf.Tensor(1, shape=(), dtype=int32)\n"
    }
   ],
   "source": [
    "for example, label in encoded_dataset.take(1):\n",
    "    print(example)\n",
    "    print(encoder.decode(example))\n",
    "    print(label)"
   ]
  },
  {
   "cell_type": "code",
   "execution_count": 19,
   "metadata": {},
   "outputs": [],
   "source": [
    "# split dataset into train/test\n",
    "\n",
    "TEST_SIZE = 10_000\n",
    "\n",
    "train_data = encoded_dataset.skip(TEST_SIZE).shuffle(BUFFER_SIZE)\n",
    "train_data = train_data.padded_batch(BATCH_SIZE)\n",
    "\n",
    "test_data = encoded_dataset.take(TEST_SIZE).shuffle(BUFFER_SIZE)\n",
    "test_data = test_data.padded_batch(BATCH_SIZE)\n"
   ]
  },
  {
   "cell_type": "code",
   "execution_count": 24,
   "metadata": {
    "tags": []
   },
   "outputs": [
    {
     "output_type": "stream",
     "name": "stdout",
     "text": "tf.Tensor([72902 43574 33862 ...     0     0     0], shape=(2025,), dtype=int32)\ntf.Tensor(0, shape=(), dtype=int32)\n"
    }
   ],
   "source": [
    "sample_text, sample_labels = next(iter(test_data))\n",
    "\n",
    "print(sample_text[0])\n",
    "print(sample_labels[0])"
   ]
  },
  {
   "cell_type": "code",
   "execution_count": 29,
   "metadata": {},
   "outputs": [
    {
     "output_type": "execute_result",
     "data": {
      "text/plain": "TensorShape([128, 2025])"
     },
     "metadata": {},
     "execution_count": 29
    }
   ],
   "source": [
    "sample_text.shape"
   ]
  },
  {
   "cell_type": "code",
   "execution_count": 34,
   "metadata": {
    "tags": []
   },
   "outputs": [
    {
     "output_type": "stream",
     "name": "stdout",
     "text": "(128,) tf.Tensor([80 48], shape=(2,), dtype=int32)\n(128,) tf.Tensor([46 82], shape=(2,), dtype=int32)\n(128,) tf.Tensor([82 46], shape=(2,), dtype=int32)\n(128,) tf.Tensor([43 85], shape=(2,), dtype=int32)\n(128,) tf.Tensor([44 84], shape=(2,), dtype=int32)\n(128,) tf.Tensor([84 44], shape=(2,), dtype=int32)\n(128,) tf.Tensor([88 40], shape=(2,), dtype=int32)\n(128,) tf.Tensor([85 43], shape=(2,), dtype=int32)\n(128,) tf.Tensor([41 87], shape=(2,), dtype=int32)\n(128,) tf.Tensor([84 44], shape=(2,), dtype=int32)\n"
    }
   ],
   "source": [
    "for f0, f1 in test_data.take(10):\n",
    "    print(f1.shape, tf.unique_with_counts(f1)[2])"
   ]
  },
  {
   "cell_type": "code",
   "execution_count": 35,
   "metadata": {},
   "outputs": [
    {
     "output_type": "execute_result",
     "data": {
      "text/plain": "73738"
     },
     "metadata": {},
     "execution_count": 35
    }
   ],
   "source": [
    "vocab_size"
   ]
  },
  {
   "cell_type": "code",
   "execution_count": null,
   "metadata": {},
   "outputs": [],
   "source": []
  }
 ],
 "metadata": {
  "language_info": {
   "codemirror_mode": {
    "name": "ipython",
    "version": 3
   },
   "file_extension": ".py",
   "mimetype": "text/x-python",
   "name": "python",
   "nbconvert_exporter": "python",
   "pygments_lexer": "ipython3",
   "version": "3.7.7-final"
  },
  "orig_nbformat": 2,
  "kernelspec": {
   "name": "python37764bittftestconda4266259241ec41c9ae53eac9f7619422",
   "display_name": "Python 3.7.7 64-bit ('tf_test': conda)"
  }
 },
 "nbformat": 4,
 "nbformat_minor": 2
}